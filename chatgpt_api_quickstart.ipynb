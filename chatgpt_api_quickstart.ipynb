{
  "nbformat": 4,
  "nbformat_minor": 0,
  "metadata": {
    "colab": {
      "provenance": [],
      "include_colab_link": true
    },
    "kernelspec": {
      "name": "python3",
      "display_name": "Python 3"
    },
    "language_info": {
      "name": "python"
    }
  },
  "cells": [
    {
      "cell_type": "markdown",
      "metadata": {
        "id": "view-in-github",
        "colab_type": "text"
      },
      "source": [
        "<a href=\"https://colab.research.google.com/github/Totbian/ChatGPT-API-Quickstart/blob/main/chatgpt_api_quickstart.ipynb\" target=\"_parent\"><img src=\"https://colab.research.google.com/assets/colab-badge.svg\" alt=\"Open In Colab\"/></a>"
      ]
    },
    {
      "cell_type": "code",
      "execution_count": null,
      "metadata": {
        "id": "nP8CkSr5jtpX"
      },
      "outputs": [],
      "source": [
        "!pip install openai"
      ]
    },
    {
      "cell_type": "markdown",
      "source": [],
      "metadata": {
        "id": "ILnjisxGj9AZ"
      }
    },
    {
      "cell_type": "markdown",
      "source": [
        "##Add your API key\n",
        "\n",
        "To get your API key, visit OpenAI's [ website here](https://platform.openai.com/account/api-keys)."
      ],
      "metadata": {
        "id": "yjaOS5bZmIk8"
      }
    },
    {
      "cell_type": "code",
      "source": [
        "import json\n",
        "import openai\n",
        "\n",
        "openai.api_key = \"API_KEY\"\n",
        "response = openai.Completion.create(engine=\"davinci\", prompt=\"Bianka is great\", max_tokens=10)\n",
        "\n",
        "print(response)\n"
      ],
      "metadata": {
        "id": "Hrk9rpKGkFs7"
      },
      "execution_count": null,
      "outputs": []
    },
    {
      "cell_type": "markdown",
      "source": [],
      "metadata": {
        "id": "M7Z7yMq0kCeq"
      }
    },
    {
      "cell_type": "markdown",
      "source": [
        "## An example API call"
      ],
      "metadata": {
        "id": "-gm0U1kwlK3A"
      }
    },
    {
      "cell_type": "code",
      "source": [
        "# Note: you need to be using OpenAI Python v0.27.0 for the code below to work\n",
        "import openai\n",
        "\n",
        "openai.ChatCompletion.create(\n",
        "  model=\"gpt-3.5-turbo\",\n",
        "  messages=[\n",
        "        {\"role\": \"system\", \"content\": \"You are a helpful assistant.\"},\n",
        "        {\"role\": \"user\", \"content\": \"Who won the world series in 2020?\"},\n",
        "        {\"role\": \"assistant\", \"content\": \"The Los Angeles Dodgers won the World Series in 2020.\"},\n",
        "        {\"role\": \"user\", \"content\": \"Where was it played?\"}\n",
        "    ]\n",
        ")"
      ],
      "metadata": {
        "id": "_kMTYZUDkCJj"
      },
      "execution_count": null,
      "outputs": []
    },
    {
      "cell_type": "markdown",
      "source": [
        "##Instructing chat models\n",
        "\n",
        "```\n",
        "You are ChatGPT, a large language model trained by OpenAI. Answer as concisely as possible. Knowledge cutoff: {knowledge_cutoff} Current date: {current_date}\n",
        "```\n",
        "\n",
        "Many conversations begin with a system message to gently instruct the assistant. For example, here is one of the system messages used for ChatGPT:\n",
        "\n",
        "\n",
        "In general, gpt-3.5-turbo-0301 does not pay strong attention to the system message, and therefore important instructions are often better placed in a user message."
      ],
      "metadata": {
        "id": "iWfseipIljfe"
      }
    },
    {
      "cell_type": "markdown",
      "source": [
        "## French Translator"
      ],
      "metadata": {
        "id": "PHzdI-U0mvgG"
      }
    },
    {
      "cell_type": "code",
      "source": [
        "openai.ChatCompletion.create(\n",
        "  model=\"gpt-3.5-turbo\",\n",
        "  messages=[\n",
        "        {\"role\": \"system\", \"content\": \"You are a helpful assistant that translates English to French.\"},\n",
        "        {\"role\": \"user\", \"content\": \"Translate the following English text to French: 'What's your name?'\"}\n",
        "    ]\n",
        ")"
      ],
      "metadata": {
        "id": "Hrd8OTQPmuvn"
      },
      "execution_count": null,
      "outputs": []
    }
  ]
}